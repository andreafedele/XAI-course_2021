{
  "cells": [
    {
      "cell_type": "markdown",
      "metadata": {
        "id": "uY6SJnYviLZ9"
      },
      "source": [
        "# Examples of XAI-Lib Usage for MNIST data"
      ]
    },
    {
      "cell_type": "code",
      "execution_count": 1,
      "metadata": {
        "colab": {
          "base_uri": "https://localhost:8080/"
        },
        "id": "6ZvVrGEViTIL",
        "outputId": "1742333b-fd3c-4af7-9b00-347a189a3f0f"
      },
      "outputs": [
        {
          "name": "stdout",
          "output_type": "stream",
          "text": [
            "Cloning into 'XAI-course_2021'...\n",
            "remote: Enumerating objects: 560, done.\u001b[K\n",
            "remote: Counting objects: 100% (560/560), done.\u001b[K\n",
            "remote: Compressing objects: 100% (417/417), done.\u001b[K\n",
            "remote: Total 560 (delta 147), reused 436 (delta 96), pack-reused 0\u001b[K\n",
            "Receiving objects: 100% (560/560), 273.50 MiB | 32.32 MiB/s, done.\n",
            "Resolving deltas: 100% (147/147), done.\n",
            "Checking out files: 100% (377/377), done.\n"
          ]
        }
      ],
      "source": [
        "!git clone https://github.com/francescanaretto/XAI-course_2021.git"
      ]
    },
    {
      "cell_type": "code",
      "execution_count": 2,
      "metadata": {
        "colab": {
          "base_uri": "https://localhost:8080/"
        },
        "id": "2vuKfVjyiXpN",
        "outputId": "7199ddf9-cfa6-442b-def6-b97147358041"
      },
      "outputs": [
        {
          "name": "stdout",
          "output_type": "stream",
          "text": [
            "/content/XAI-course_2021/Images\n"
          ]
        }
      ],
      "source": [
        "cd XAI-course_2021/Images/"
      ]
    },
    {
      "cell_type": "code",
      "execution_count": 1,
      "metadata": {
        "id": "zAJEmdfKiLZ-"
      },
      "outputs": [],
      "source": [
        "import numpy as np\n",
        "import pandas as pd\n",
        "import matplotlib.pyplot as plt\n",
        "import pickle\n",
        "import warnings\n",
        "warnings.filterwarnings(\"ignore\")"
      ]
    },
    {
      "cell_type": "markdown",
      "metadata": {
        "id": "dCSS5OREiLZ_"
      },
      "source": [
        "## Intgrad (Tensorflow Model)"
      ]
    },
    {
      "cell_type": "markdown",
      "metadata": {
        "id": "7FnDXMQciLaA"
      },
      "source": [
        "<img src='https://github.com/francescanaretto/XAI-course_2021/blob/main/Images/images/intgrad_MNIST.jpg?raw=1' width=\"20%\" height=\"20%\">"
      ]
    },
    {
      "cell_type": "code",
      "execution_count": 2,
      "metadata": {
        "colab": {
          "base_uri": "https://localhost:8080/"
        },
        "id": "jm87O9hHiLaA",
        "outputId": "dda2e133-135d-4a70-b640-a91f757050c3"
      },
      "outputs": [
        {
          "name": "stdout",
          "output_type": "stream",
          "text": [
            "WARNING:tensorflow:SavedModel saved prior to TF 2.5 detected when loading Keras model. Please ensure that you are saving the model with model.save() or tf.keras.models.save_model(), *NOT* tf.saved_model.save(). To confirm, there should be a file named \"keras_metadata.pb\" in the SavedModel directory.\n"
          ]
        },
        {
          "name": "stderr",
          "output_type": "stream",
          "text": [
            "2022-01-20 15:25:12.312133: I tensorflow/core/platform/cpu_feature_guard.cc:151] This TensorFlow binary is optimized with oneAPI Deep Neural Network Library (oneDNN) to use the following CPU instructions in performance-critical operations:  SSE4.2\n",
            "To enable them in other operations, rebuild TensorFlow with the appropriate compiler flags.\n"
          ]
        },
        {
          "name": "stdout",
          "output_type": "stream",
          "text": [
            "Model: \"sequential_1\"\n",
            "_________________________________________________________________\n",
            "Layer (type)                 Output Shape              Param #   \n",
            "=================================================================\n",
            "conv2d_1 (Conv2D)            (None, 26, 26, 32)        320       \n",
            "_________________________________________________________________\n",
            "conv2d_2 (Conv2D)            (None, 24, 24, 64)        18496     \n",
            "_________________________________________________________________\n",
            "max_pooling2d_1 (MaxPooling2 (None, 12, 12, 64)        0         \n",
            "_________________________________________________________________\n",
            "dropout_1 (Dropout)          (None, 12, 12, 64)        0         \n",
            "_________________________________________________________________\n",
            "flatten_1 (Flatten)          (None, 9216)              0         \n",
            "_________________________________________________________________\n",
            "dense_1 (Dense)              (None, 128)               1179776   \n",
            "_________________________________________________________________\n",
            "dropout_2 (Dropout)          (None, 128)               0         \n",
            "_________________________________________________________________\n",
            "dense_2 (Dense)              (None, 10)                1290      \n",
            "=================================================================\n",
            "Total params: 1,199,882\n",
            "Trainable params: 0\n",
            "Non-trainable params: 1,199,882\n",
            "_________________________________________________________________\n"
          ]
        }
      ],
      "source": [
        "# Load Dataset\n",
        "from tensorflow.keras.datasets import mnist\n",
        "(MNIST_x_data_train, MNIST_y_data_train), (MNIST_x_data_test, MNIST_y_data_test) = mnist.load_data()\n",
        "#MNIST_x_data_train = np.load('./datasets/mnist_x_train.npy')\n",
        "#MNIST_y_data_train = np.load('./datasets/mnist_y_train.npy')\n",
        "#MNIST_x_data_test = np.load('./datasets/mnist_x_test.npy')\n",
        "#MNIST_y_data_test = np.load('./datasets/mnist_y_test.npy')\n",
        "\n",
        "# Load the model\n",
        "import tensorflow as tf\n",
        "assert tf.__version__[0]=='2', 'please install tensorflow 2.x'\n",
        "MNIST_CNN_tf = tf.keras.models.load_model('./models/keras_cnn_mnist')\n",
        "MNIST_CNN_tf.trainable=False\n",
        "MNIST_CNN_tf.summary()"
      ]
    },
    {
      "cell_type": "code",
      "execution_count": 3,
      "metadata": {},
      "outputs": [],
      "source": [
        "from xailib.explainers.intgrad_explainer import IntgradImageExplainer\n",
        "\n",
        "# 1) Create the Explainer\n",
        "ig = IntgradImageExplainer(MNIST_CNN_tf)"
      ]
    },
    {
      "cell_type": "code",
      "execution_count": 4,
      "metadata": {},
      "outputs": [],
      "source": [
        "# 2) Fit the Explainer\n",
        "ig.fit()"
      ]
    },
    {
      "cell_type": "code",
      "execution_count": 13,
      "metadata": {},
      "outputs": [],
      "source": [
        "# 3) Select the image we want to give an explanation for\n",
        "idx = 80\n",
        "image = MNIST_x_data_train[idx,:]"
      ]
    },
    {
      "cell_type": "code",
      "execution_count": 8,
      "metadata": {},
      "outputs": [],
      "source": [
        "# 4a) Preprocessing function: function that takes as input an image and return the correct format for the black box no first dimension\n",
        "def preprocessing(image):\n",
        "    return tf.convert_to_tensor(image.reshape(28,28,1),dtype=tf.float32)"
      ]
    },
    {
      "cell_type": "code",
      "execution_count": 9,
      "metadata": {},
      "outputs": [],
      "source": [
        "# 4b) Predict Function of our black box: It needs to take as input the output of preprocessing and return an array of probabilities of classes with shape (-1,num_classes)\n",
        "def predict(image):\n",
        "    return MNIST_CNN_tf(image)"
      ]
    },
    {
      "cell_type": "code",
      "execution_count": 11,
      "metadata": {
        "colab": {
          "base_uri": "https://localhost:8080/",
          "height": 248
        },
        "id": "9Kqlbzy4iLaC",
        "outputId": "17ce07a4-29f2-4542-f7f9-9a4b828902e4"
      },
      "outputs": [
        {
          "data": {
            "image/png": "[encoded data removed]",
            "text/plain": [
              "<Figure size 432x288 with 2 Axes>"
            ]
          },
          "metadata": {
            "needs_background": "light"
          },
          "output_type": "display_data"
        }
      ],
      "source": [
        "# 5) Explain an Instance\n",
        "intgrad_tf_score = ig.explain(image, 8, 'black', preprocessing, predict, model_type='tensorflow')\n",
        "\n",
        "plt.imshow(intgrad_tf_score.reshape(28,28), cmap='coolwarm')\n",
        "plt.colorbar()\n",
        "plt.axis('off');"
      ]
    },
    {
      "cell_type": "markdown",
      "metadata": {
        "id": "eE8Lg3dxiLaD"
      },
      "source": [
        "## Intgrad (PyTorch Model)"
      ]
    },
    {
      "cell_type": "code",
      "execution_count": 3,
      "metadata": {
        "colab": {
          "base_uri": "https://localhost:8080/"
        },
        "id": "1VDLsgoWiLaD",
        "outputId": "a3060b27-b1bc-4e6c-8430-4952cb31cb9e"
      },
      "outputs": [
        {
          "data": {
            "text/plain": [
              "Net(\n",
              "  (conv_block): Sequential(\n",
              "    (0): Conv2d(1, 32, kernel_size=(3, 3), stride=(1, 1), padding=(1, 1))\n",
              "    (1): BatchNorm2d(32, eps=1e-05, momentum=0.1, affine=True, track_running_stats=True)\n",
              "    (2): ReLU(inplace=True)\n",
              "    (3): Conv2d(32, 64, kernel_size=(3, 3), stride=(1, 1), padding=(1, 1))\n",
              "    (4): BatchNorm2d(64, eps=1e-05, momentum=0.1, affine=True, track_running_stats=True)\n",
              "    (5): ReLU(inplace=True)\n",
              "    (6): MaxPool2d(kernel_size=2, stride=2, padding=0, dilation=1, ceil_mode=False)\n",
              "    (7): Conv2d(64, 128, kernel_size=(3, 3), stride=(1, 1), padding=(1, 1))\n",
              "    (8): BatchNorm2d(128, eps=1e-05, momentum=0.1, affine=True, track_running_stats=True)\n",
              "    (9): ReLU(inplace=True)\n",
              "    (10): MaxPool2d(kernel_size=2, stride=2, padding=0, dilation=1, ceil_mode=False)\n",
              "  )\n",
              "  (linear_block): Sequential(\n",
              "    (0): Dropout(p=0.5, inplace=False)\n",
              "    (1): Linear(in_features=6272, out_features=128, bias=True)\n",
              "    (2): BatchNorm1d(128, eps=1e-05, momentum=0.1, affine=True, track_running_stats=True)\n",
              "    (3): ReLU(inplace=True)\n",
              "    (4): Dropout(p=0.5, inplace=False)\n",
              "    (5): Linear(in_features=128, out_features=64, bias=True)\n",
              "    (6): BatchNorm1d(64, eps=1e-05, momentum=0.1, affine=True, track_running_stats=True)\n",
              "    (7): ReLU(inplace=True)\n",
              "    (8): Dropout(p=0.5, inplace=False)\n",
              "    (9): Linear(in_features=64, out_features=10, bias=True)\n",
              "  )\n",
              ")"
            ]
          },
          "execution_count": 3,
          "metadata": {},
          "output_type": "execute_result"
        }
      ],
      "source": [
        "# Load Dataset\n",
        "#import torchvision\n",
        "#import torchvision.datasets as datasets\n",
        "#mnist_train = datasets.MNIST(root='./data', train=True, download=True, transform=None)\n",
        "#mnist_test = datasets.MNIST(root='./data', train=False, download=True, transform=None)\n",
        "#from tensorflow.keras.datasets import mnist\n",
        "#(MNIST_x_data_train, MNIST_y_data_train), (MNIST_x_data_test, MNIST_y_data_test) = mnist.load_data()\n",
        "\n",
        "# Load the model\n",
        "import torch\n",
        "import torch.nn as nn\n",
        "\n",
        "class Net(nn.Module):\n",
        "    def __init__(self):\n",
        "        super(Net, self).__init__()\n",
        "        \n",
        "        self.conv_block = nn.Sequential(\n",
        "            nn.Conv2d(1, 32, kernel_size=3, stride=1, padding=1),\n",
        "            nn.BatchNorm2d(32),\n",
        "            nn.ReLU(inplace=True),\n",
        "            nn.Conv2d(32, 64, kernel_size=3, stride=1, padding=1),\n",
        "            nn.BatchNorm2d(64),\n",
        "            nn.ReLU(inplace=True),\n",
        "            nn.MaxPool2d(kernel_size=2, stride=2),\n",
        "            nn.Conv2d(64, 128, kernel_size=3, stride=1, padding=1),\n",
        "            nn.BatchNorm2d(128),\n",
        "            nn.ReLU(inplace=True),\n",
        "            nn.MaxPool2d(kernel_size=2, stride=2) \n",
        "        )\n",
        "        \n",
        "        self.linear_block = nn.Sequential(\n",
        "            nn.Dropout(p=0.5),\n",
        "            nn.Linear(128*7*7, 128),\n",
        "            nn.BatchNorm1d(128),\n",
        "            nn.ReLU(inplace=True),\n",
        "            nn.Dropout(0.5),\n",
        "            nn.Linear(128, 64),\n",
        "            nn.BatchNorm1d(64),\n",
        "            nn.ReLU(inplace=True),\n",
        "            nn.Dropout(0.5),\n",
        "            nn.Linear(64, 10)\n",
        "        )\n",
        "        \n",
        "    def forward(self, x):\n",
        "        x = self.conv_block(x)\n",
        "        x = x.view(x.size(0), -1)\n",
        "        x = torch.nn.functional.softmax(self.linear_block(x),dim=1)\n",
        "        \n",
        "        return x\n",
        "MNIST_CNN = Net()\n",
        "MNIST_CNN.load_state_dict(torch.load('./models/MNIST_Pytorch_CNN.pt',map_location=torch.device('cpu')))\n",
        "MNIST_CNN.eval()"
      ]
    },
    {
      "cell_type": "code",
      "execution_count": 15,
      "metadata": {
        "colab": {
          "base_uri": "https://localhost:8080/",
          "height": 248
        },
        "id": "2sM-NS0CiLaE",
        "outputId": "5e872067-7d17-4e46-8167-3ab1c144212e"
      },
      "outputs": [
        {
          "name": "stderr",
          "output_type": "stream",
          "text": [
            "[W NNPACK.cpp:80] Could not initialize NNPACK! Reason: Unsupported hardware.\n"
          ]
        },
        {
          "data": {
            "image/png": "[encoded data removed]",
            "text/plain": [
              "<Figure size 432x288 with 2 Axes>"
            ]
          },
          "metadata": {
            "needs_background": "light"
          },
          "output_type": "display_data"
        }
      ],
      "source": [
        "from xailib.explainers.intgrad_explainer import IntgradImageExplainer\n",
        "\n",
        "# 1) Create the Explainer\n",
        "ig = IntgradImageExplainer(MNIST_CNN)\n",
        "\n",
        "# 2) Fit the Explainer\n",
        "ig.fit()\n",
        "\n",
        "# 3) Select the image we want to give an explanation for\n",
        "image = MNIST_x_data_train[idx]\n",
        "\n",
        "# 4a) Preprocessing function: function that takes as input an image and return the correct format for the black box\n",
        "def preprocessing(image):\n",
        "    return torch.tensor([[image/255]]).float()\n",
        "\n",
        "# 4b) Predict Function of our black box: It needs to take as input the output of preprocessing and return an array of probabilities of classes with shape (-1,num_classes)\n",
        "def predict(image):\n",
        "    return MNIST_CNN(image)\n",
        "\n",
        "# 5) Explain an Instance\n",
        "intgrad_pt_score = ig.explain(image, 5, 'black', preprocessing, predict, model_type='pytorch').reshape(28,28)\n",
        "\n",
        "plt.imshow(intgrad_pt_score,cmap='coolwarm')\n",
        "plt.colorbar()\n",
        "plt.axis('off');"
      ]
    },
    {
      "cell_type": "markdown",
      "metadata": {
        "id": "Ya5rTdtpiLaF",
        "tags": []
      },
      "source": [
        "## LIME"
      ]
    },
    {
      "cell_type": "code",
      "execution_count": 9,
      "metadata": {
        "colab": {
          "base_uri": "https://localhost:8080/"
        },
        "id": "NZxOSQjmjPIM",
        "outputId": "d8a0c06b-5dd3-4b8e-e71e-038edc875cf2"
      },
      "outputs": [
        {
          "name": "stdout",
          "output_type": "stream",
          "text": [
            "Collecting lime\n",
            "  Downloading lime-0.2.0.1.tar.gz (275 kB)\n",
            "\u001b[?25l\r\u001b[K     |█▏                              | 10 kB 22.2 MB/s eta 0:00:01\r\u001b[K     |██▍                             | 20 kB 11.1 MB/s eta 0:00:01\r\u001b[K     |███▋                            | 30 kB 9.1 MB/s eta 0:00:01\r\u001b[K     |████▊                           | 40 kB 8.3 MB/s eta 0:00:01\r\u001b[K     |██████                          | 51 kB 5.0 MB/s eta 0:00:01\r\u001b[K     |███████▏                        | 61 kB 5.6 MB/s eta 0:00:01\r\u001b[K     |████████▎                       | 71 kB 5.5 MB/s eta 0:00:01\r\u001b[K     |█████████▌                      | 81 kB 6.1 MB/s eta 0:00:01\r\u001b[K     |██████████▊                     | 92 kB 4.7 MB/s eta 0:00:01\r\u001b[K     |███████████▉                    | 102 kB 5.0 MB/s eta 0:00:01\r\u001b[K     |█████████████                   | 112 kB 5.0 MB/s eta 0:00:01\r\u001b[K     |██████████████▎                 | 122 kB 5.0 MB/s eta 0:00:01\r\u001b[K     |███████████████▌                | 133 kB 5.0 MB/s eta 0:00:01\r\u001b[K     |████████████████▋               | 143 kB 5.0 MB/s eta 0:00:01\r\u001b[K     |█████████████████▉              | 153 kB 5.0 MB/s eta 0:00:01\r\u001b[K     |███████████████████             | 163 kB 5.0 MB/s eta 0:00:01\r\u001b[K     |████████████████████▏           | 174 kB 5.0 MB/s eta 0:00:01\r\u001b[K     |█████████████████████▍          | 184 kB 5.0 MB/s eta 0:00:01\r\u001b[K     |██████████████████████▋         | 194 kB 5.0 MB/s eta 0:00:01\r\u001b[K     |███████████████████████▊        | 204 kB 5.0 MB/s eta 0:00:01\r\u001b[K     |█████████████████████████       | 215 kB 5.0 MB/s eta 0:00:01\r\u001b[K     |██████████████████████████▏     | 225 kB 5.0 MB/s eta 0:00:01\r\u001b[K     |███████████████████████████▍    | 235 kB 5.0 MB/s eta 0:00:01\r\u001b[K     |████████████████████████████▌   | 245 kB 5.0 MB/s eta 0:00:01\r\u001b[K     |█████████████████████████████▊  | 256 kB 5.0 MB/s eta 0:00:01\r\u001b[K     |███████████████████████████████ | 266 kB 5.0 MB/s eta 0:00:01\r\u001b[K     |████████████████████████████████| 275 kB 5.0 MB/s \n",
            "\u001b[?25hRequirement already satisfied: matplotlib in /usr/local/lib/python3.7/dist-packages (from lime) (3.2.2)\n",
            "Requirement already satisfied: numpy in /usr/local/lib/python3.7/dist-packages (from lime) (1.19.5)\n",
            "Requirement already satisfied: scipy in /usr/local/lib/python3.7/dist-packages (from lime) (1.4.1)\n",
            "Requirement already satisfied: tqdm in /usr/local/lib/python3.7/dist-packages (from lime) (4.62.3)\n",
            "Requirement already satisfied: scikit-learn>=0.18 in /usr/local/lib/python3.7/dist-packages (from lime) (1.0.1)\n",
            "Requirement already satisfied: scikit-image>=0.12 in /usr/local/lib/python3.7/dist-packages (from lime) (0.18.3)\n",
            "Requirement already satisfied: pillow!=7.1.0,!=7.1.1,>=4.3.0 in /usr/local/lib/python3.7/dist-packages (from scikit-image>=0.12->lime) (7.1.2)\n",
            "Requirement already satisfied: tifffile>=2019.7.26 in /usr/local/lib/python3.7/dist-packages (from scikit-image>=0.12->lime) (2021.11.2)\n",
            "Requirement already satisfied: imageio>=2.3.0 in /usr/local/lib/python3.7/dist-packages (from scikit-image>=0.12->lime) (2.4.1)\n",
            "Requirement already satisfied: PyWavelets>=1.1.1 in /usr/local/lib/python3.7/dist-packages (from scikit-image>=0.12->lime) (1.2.0)\n",
            "Requirement already satisfied: networkx>=2.0 in /usr/local/lib/python3.7/dist-packages (from scikit-image>=0.12->lime) (2.6.3)\n",
            "Requirement already satisfied: cycler>=0.10 in /usr/local/lib/python3.7/dist-packages (from matplotlib->lime) (0.11.0)\n",
            "Requirement already satisfied: pyparsing!=2.0.4,!=2.1.2,!=2.1.6,>=2.0.1 in /usr/local/lib/python3.7/dist-packages (from matplotlib->lime) (3.0.6)\n",
            "Requirement already satisfied: kiwisolver>=1.0.1 in /usr/local/lib/python3.7/dist-packages (from matplotlib->lime) (1.3.2)\n",
            "Requirement already satisfied: python-dateutil>=2.1 in /usr/local/lib/python3.7/dist-packages (from matplotlib->lime) (2.8.2)\n",
            "Requirement already satisfied: six>=1.5 in /usr/local/lib/python3.7/dist-packages (from python-dateutil>=2.1->matplotlib->lime) (1.15.0)\n",
            "Requirement already satisfied: joblib>=0.11 in /usr/local/lib/python3.7/dist-packages (from scikit-learn>=0.18->lime) (1.1.0)\n",
            "Requirement already satisfied: threadpoolctl>=2.0.0 in /usr/local/lib/python3.7/dist-packages (from scikit-learn>=0.18->lime) (3.0.0)\n",
            "Building wheels for collected packages: lime\n",
            "  Building wheel for lime (setup.py) ... \u001b[?25l\u001b[?25hdone\n",
            "  Created wheel for lime: filename=lime-0.2.0.1-py3-none-any.whl size=283857 sha256=dd724b70215cc833aa61fef61b0577efd1280a3f826040a89628b8f0898283f0\n",
            "  Stored in directory: /root/.cache/pip/wheels/ca/cb/e5/ac701e12d365a08917bf4c6171c0961bc880a8181359c66aa7\n",
            "Successfully built lime\n",
            "Installing collected packages: lime\n",
            "Successfully installed lime-0.2.0.1\n"
          ]
        }
      ],
      "source": [
        "!pip install lime"
      ]
    },
    {
      "cell_type": "markdown",
      "metadata": {
        "id": "A3kdAsOliLaF"
      },
      "source": [
        "<img src='https://github.com/francescanaretto/XAI-course_2021/blob/main/Images/images/lime_MNIST.jpg?raw=1' width=\"50%\" height=\"50%\">"
      ]
    },
    {
      "cell_type": "code",
      "execution_count": 16,
      "metadata": {
        "colab": {
          "base_uri": "https://localhost:8080/",
          "height": 325,
          "referenced_widgets": [
            "b2926604cd7241f389098d5fc345daea",
            "595d45cb8d524421a85d653610e12a84",
            "b9e04b46e3f24e8ca1f343671d559a57",
            "0a92673f39ee47a7b47d374a9a7edd27",
            "8aa02a4986ac44dab54aa418cd869545",
            "c0e88205411346379eaceb2fae786cad",
            "feb81cfa232b4efbba92a415f92085f3",
            "80141e76624a4c0780213cd099676974",
            "aacdff13507e4289a8174294808f73c5",
            "cdc040d12f01492cb8b6ee73bea5bc94",
            "68bea8011911412c8864b3899b68ab5e"
          ]
        },
        "id": "c5qhLY2FiLaF",
        "outputId": "1be2d233-0481-4ebc-a659-36fa280b6ba4"
      },
      "outputs": [
        {
          "name": "stderr",
          "output_type": "stream",
          "text": [
            "100%|██████████| 100/100 [00:00<00:00, 509.57it/s]\n"
          ]
        },
        {
          "data": {
            "image/png": "[encoded data removed]",
            "text/plain": [
              "<Figure size 1080x360 with 3 Axes>"
            ]
          },
          "metadata": {
            "needs_background": "light"
          },
          "output_type": "display_data"
        }
      ],
      "source": [
        "from xailib.explainers.lime_explainer import LimeXAIImageExplainer\n",
        "from skimage.color import label2rgb, gray2rgb, rgb2gray\n",
        "\n",
        "# index of the image to explain\n",
        "idx = 80\n",
        "\n",
        "# 1) Create the Explainer\n",
        "lm = LimeXAIImageExplainer(MNIST_CNN)\n",
        "\n",
        "# 2a) Fit the Explainer\n",
        "lm.fit()\n",
        "\n",
        "# 2b) Create custom classifier function if not predict \n",
        "# function that takes as input an array of images (the LIME neighbourhood) and return an array of (num_images,num_classes)\n",
        "# If None will use black_box.predict function\n",
        "def classifier_fn(images):\n",
        "    images = torch.tensor(rgb2gray(images/255).reshape(-1,1,28,28)).float()\n",
        "    return np.argmax(MNIST_CNN(images).detach().numpy(),axis=1).reshape(-1,1)\n",
        "\n",
        "# 3) Explain an Instance\n",
        "explanation = lm.explain(gray2rgb(MNIST_x_data_train[idx]), classifier_fn, num_samples=100)\n",
        "\n",
        "# 4) Plot the results\n",
        "lm.plot_lime_values(MNIST_x_data_train[idx], explanation)"
      ]
    },
    {
      "cell_type": "code",
      "execution_count": 17,
      "metadata": {
        "colab": {
          "base_uri": "https://localhost:8080/",
          "height": 248
        },
        "id": "d5e11mN5iLaG",
        "outputId": "4a8b7b5f-9d28-4fad-c751-dadea51bcecd"
      },
      "outputs": [
        {
          "data": {
            "image/png": "[encoded data removed]",
            "text/plain": [
              "<Figure size 432x288 with 1 Axes>"
            ]
          },
          "metadata": {
            "needs_background": "light"
          },
          "output_type": "display_data"
        }
      ],
      "source": [
        "from skimage.segmentation import mark_boundaries\n",
        "temp, mask = explanation.get_image_and_mask(explanation.top_labels[0])\n",
        "img_boundry1 = mark_boundaries(temp/255.0, mask)\n",
        "plt.imshow(img_boundry1)\n",
        "plt.axis('off');"
      ]
    },
    {
      "cell_type": "code",
      "execution_count": 18,
      "metadata": {
        "colab": {
          "base_uri": "https://localhost:8080/",
          "height": 265
        },
        "id": "taGfjhI7iLaG",
        "outputId": "e5eeea92-fb60-48ed-b09a-e840a898ce4d"
      },
      "outputs": [
        {
          "data": {
            "image/png": "[encoded data removed]",
            "text/plain": [
              "<Figure size 432x288 with 1 Axes>"
            ]
          },
          "metadata": {
            "needs_background": "light"
          },
          "output_type": "display_data"
        }
      ],
      "source": [
        "temp, mask = explanation.get_image_and_mask(explanation.top_labels[0], positive_only=False)\n",
        "img_boundry2 = mark_boundaries(temp/255.0, mask)\n",
        "plt.imshow(img_boundry2);"
      ]
    },
    {
      "cell_type": "code",
      "execution_count": 20,
      "metadata": {
        "colab": {
          "base_uri": "https://localhost:8080/",
          "height": 248
        },
        "id": "DQlvZArziLaH",
        "outputId": "6005c217-891e-4385-e9f4-c1bd9cc2ca8e"
      },
      "outputs": [
        {
          "data": {
            "image/png": "[encoded data removed]",
            "text/plain": [
              "<Figure size 432x288 with 1 Axes>"
            ]
          },
          "metadata": {
            "needs_background": "light"
          },
          "output_type": "display_data"
        }
      ],
      "source": [
        "from skimage.segmentation import quickshift, mark_boundaries\n",
        "from skimage.color import gray2rgb\n",
        "image = gray2rgb(MNIST_x_data_train[idx].astype(int))\n",
        "\"\"\"\n",
        "First you need to define the segmentation function to use, in this example we will use\n",
        "quickshift from skimage. It is foundamental to tune the parameters of the segmentation in\n",
        "order to have a good one. It is recommentded to print an example of just only the segmentation\n",
        "to see if it works for that kind of image\n",
        "For quickshift we have to tune these two parameters below\n",
        "kernel_size : float, optional\n",
        "    Width of Gaussian kernel used in smoothing the\n",
        "    sample density. Higher means fewer clusters.\n",
        "max_dist : float, optional\n",
        "    Cut-off point for data distances.\n",
        "    Higher means fewer clusters.\n",
        "\"\"\"\n",
        "def segmentation_fn(image):\n",
        "    return quickshift(image, kernel_size=2, max_dist=3)\n",
        "plt.imshow(mark_boundaries(image/255,segmentation_fn(image)))\n",
        "plt.axis('off');"
      ]
    },
    {
      "cell_type": "code",
      "execution_count": 22,
      "metadata": {
        "colab": {
          "base_uri": "https://localhost:8080/",
          "height": 325,
          "referenced_widgets": [
            "000739d30a4e4fd2bfc7659f0159cda5",
            "93d860597c5d4fa49fb9953130c121d4",
            "e783171df4e740188ab5793b44babd8a",
            "8f4c208b434e451baa54ef26a62d461c",
            "8d9ddbc81a224c39ab2efb31900b2c57",
            "b50b2033077e4c3699e4b9c90235463e",
            "10785434e4de4d58bfe1671f58985ff4",
            "c099c09ded364a44bd4fc9b86be85db8",
            "a6b77f297ad54e36be2b72e8448bac0c",
            "676476610fa44722b5e79a88bbd02040",
            "7b3e14c7616a41c88a58f376ca5f59ea"
          ]
        },
        "id": "BCtvzLd6iLaH",
        "outputId": "7157c8d2-b254-4a01-8cdc-d6973d02a6ca"
      },
      "outputs": [
        {
          "name": "stderr",
          "output_type": "stream",
          "text": [
            "100%|██████████| 100/100 [00:00<00:00, 513.63it/s]\n"
          ]
        },
        {
          "data": {
            "image/png": "[encoded data removed]",
            "text/plain": [
              "<Figure size 1080x360 with 3 Axes>"
            ]
          },
          "metadata": {
            "needs_background": "light"
          },
          "output_type": "display_data"
        }
      ],
      "source": [
        "from xailib.explainers.lime_explainer import LimeXAIImageExplainer\n",
        "from skimage.color import label2rgb, gray2rgb, rgb2gray\n",
        "\n",
        "# index of the image to explain\n",
        "idx = 80\n",
        "\n",
        "# 1) Create the Explainer\n",
        "lm = LimeXAIImageExplainer(MNIST_CNN)\n",
        "\n",
        "# 2a) Fit the Explainer\n",
        "lm.fit()\n",
        "\n",
        "# 2b) Create custom classifier function if not predict \n",
        "# function that takes as input an array of images (the LIME neighbourhood) and return an array of (num_images,num_classes)\n",
        "# If None will use black_box.predict function\n",
        "def classifier_fn(images):\n",
        "    images = torch.tensor(rgb2gray(images/255).reshape(-1,1,28,28)).float()\n",
        "    return np.argmax(MNIST_CNN(images).detach().numpy(),axis=1).reshape(-1,1)\n",
        "\n",
        "# 3) Explain an Instance\n",
        "explanation = lm.explain(gray2rgb(MNIST_x_data_train[idx]), classifier_fn, segmentation_fn, num_samples=100)\n",
        "\n",
        "# 4) Plot the results\n",
        "lm.plot_lime_values(MNIST_x_data_train[idx], explanation)"
      ]
    },
    {
      "cell_type": "code",
      "execution_count": 23,
      "metadata": {
        "id": "G9xOQFJNiLaI"
      },
      "outputs": [],
      "source": [
        "lime_score = explanation.heatmap"
      ]
    },
    {
      "cell_type": "markdown",
      "metadata": {
        "id": "kXKP4EV1iLaI"
      },
      "source": [
        "## RISE"
      ]
    },
    {
      "cell_type": "markdown",
      "metadata": {
        "id": "tOAuqHBdiLaI"
      },
      "source": [
        "<img src='https://github.com/francescanaretto/XAI-course_2021/blob/main/Images/images/rise_MNIST.jpg?raw=1' width=\"50%\" height=\"50%\">"
      ]
    },
    {
      "cell_type": "code",
      "execution_count": 24,
      "metadata": {
        "colab": {
          "base_uri": "https://localhost:8080/",
          "height": 151
        },
        "id": "_MvmvHDmiLaI",
        "outputId": "d10d6efc-1025-4f51-e1cd-924a65b62447"
      },
      "outputs": [
        {
          "data": {
            "image/png": "[encoded data removed]",
            "text/plain": [
              "<Figure size 2160x360 with 10 Axes>"
            ]
          },
          "metadata": {
            "needs_background": "light"
          },
          "output_type": "display_data"
        }
      ],
      "source": [
        "from xailib.explainers.rise_explainer import RiseXAIImageExplainer\n",
        "\n",
        "class Rise_model_wrapper():\n",
        "    def __init__(self, bb, input_size):\n",
        "        self.model = bb\n",
        "        self.input_size = input_size\n",
        "        \n",
        "    def predict(self, X):\n",
        "        return self.model(torch.tensor(X).reshape(-1,1,28,28).float()/255).detach().numpy()\n",
        "        \n",
        "\n",
        "model = Rise_model_wrapper(MNIST_CNN, (28,28))\n",
        "rise = RiseXAIImageExplainer(model)\n",
        "        \n",
        "\n",
        "N = 10 # number of random masks\n",
        "s = 10 # cell_size = input_shape / s\n",
        "p1 = 0.5 # masking probability\n",
        "\n",
        "rise.fit(N, s, p1)\n",
        "\n",
        "F,ax=plt.subplots(1,10,figsize=(30,5))\n",
        "for i in range(10):\n",
        "    ax[i].imshow(rise.masks[i,:].reshape(28,28))"
      ]
    },
    {
      "cell_type": "code",
      "execution_count": 26,
      "metadata": {
        "colab": {
          "base_uri": "https://localhost:8080/",
          "height": 212
        },
        "id": "wVvRe-I7iLaJ",
        "outputId": "2e53a1f3-445e-46e1-faa7-b7fb0721705a"
      },
      "outputs": [
        {
          "name": "stdout",
          "output_type": "stream",
          "text": [
            "(10, 28, 28)\n"
          ]
        },
        {
          "data": {
            "image/png": "[encoded data removed]",
            "text/plain": [
              "<Figure size 720x360 with 3 Axes>"
            ]
          },
          "metadata": {
            "needs_background": "light"
          },
          "output_type": "display_data"
        }
      ],
      "source": [
        "fig, ax = plt.subplots(1,3,figsize=(10,5))\n",
        "img = MNIST_x_data_train[80,:]\n",
        "N = 100\n",
        "s = 8\n",
        "p1 = 0.5\n",
        "\n",
        "rise.fit(N, s, p1)\n",
        "\n",
        "sal = rise.explain(img.reshape(28,28,1)/255)\n",
        "print(sal.shape)\n",
        "rise_score = sal[MNIST_y_data_test[8]]\n",
        "\n",
        "ax[0].imshow(img,cmap='gray')\n",
        "ax[0].axis('off')\n",
        "\n",
        "ax[1].imshow(rise_score,cmap='jet')\n",
        "ax[1].axis('off')\n",
        "\n",
        "ax[2].imshow(img,cmap='gray')\n",
        "ax[2].imshow(rise_score,cmap='jet',alpha=0.5)\n",
        "ax[2].axis('off');"
      ]
    },
    {
      "cell_type": "markdown",
      "metadata": {
        "id": "qO3kQyCtiLaJ"
      },
      "source": [
        "# GRADCAM\n",
        "Weight the 2D activations by the average gradient"
      ]
    },
    {
      "cell_type": "code",
      "execution_count": 18,
      "metadata": {
        "colab": {
          "base_uri": "https://localhost:8080/"
        },
        "id": "WOw4EDmnj4b2",
        "outputId": "4bb5366e-015a-40bd-c74b-6cfc37c64339"
      },
      "outputs": [
        {
          "name": "stdout",
          "output_type": "stream",
          "text": [
            "Collecting ttach\n",
            "  Downloading ttach-0.0.3-py3-none-any.whl (9.8 kB)\n",
            "Installing collected packages: ttach\n",
            "Successfully installed ttach-0.0.3\n"
          ]
        }
      ],
      "source": [
        "!pip install ttach"
      ]
    },
    {
      "cell_type": "code",
      "execution_count": 27,
      "metadata": {},
      "outputs": [
        {
          "data": {
            "text/plain": [
              "Net(\n",
              "  (conv_block): Sequential(\n",
              "    (0): Conv2d(1, 32, kernel_size=(3, 3), stride=(1, 1), padding=(1, 1))\n",
              "    (1): BatchNorm2d(32, eps=1e-05, momentum=0.1, affine=True, track_running_stats=True)\n",
              "    (2): ReLU(inplace=True)\n",
              "    (3): Conv2d(32, 64, kernel_size=(3, 3), stride=(1, 1), padding=(1, 1))\n",
              "    (4): BatchNorm2d(64, eps=1e-05, momentum=0.1, affine=True, track_running_stats=True)\n",
              "    (5): ReLU(inplace=True)\n",
              "    (6): MaxPool2d(kernel_size=2, stride=2, padding=0, dilation=1, ceil_mode=False)\n",
              "    (7): Conv2d(64, 128, kernel_size=(3, 3), stride=(1, 1), padding=(1, 1))\n",
              "    (8): BatchNorm2d(128, eps=1e-05, momentum=0.1, affine=True, track_running_stats=True)\n",
              "    (9): ReLU(inplace=True)\n",
              "    (10): MaxPool2d(kernel_size=2, stride=2, padding=0, dilation=1, ceil_mode=False)\n",
              "  )\n",
              "  (linear_block): Sequential(\n",
              "    (0): Dropout(p=0.5, inplace=False)\n",
              "    (1): Linear(in_features=6272, out_features=128, bias=True)\n",
              "    (2): BatchNorm1d(128, eps=1e-05, momentum=0.1, affine=True, track_running_stats=True)\n",
              "    (3): ReLU(inplace=True)\n",
              "    (4): Dropout(p=0.5, inplace=False)\n",
              "    (5): Linear(in_features=128, out_features=64, bias=True)\n",
              "    (6): BatchNorm1d(64, eps=1e-05, momentum=0.1, affine=True, track_running_stats=True)\n",
              "    (7): ReLU(inplace=True)\n",
              "    (8): Dropout(p=0.5, inplace=False)\n",
              "    (9): Linear(in_features=64, out_features=10, bias=True)\n",
              "  )\n",
              ")"
            ]
          },
          "execution_count": 27,
          "metadata": {},
          "output_type": "execute_result"
        }
      ],
      "source": [
        "MNIST_CNN = Net()\n",
        "MNIST_CNN.load_state_dict(torch.load('./models/MNIST_Pytorch_CNN.pt',map_location=torch.device('cpu')))\n",
        "MNIST_CNN.eval()"
      ]
    },
    {
      "cell_type": "code",
      "execution_count": 29,
      "metadata": {
        "id": "9TpEV6n9iLaJ"
      },
      "outputs": [],
      "source": [
        "from xailib.explainers.gradcam_explainer import GradCAMImageExplainer\n",
        "\n",
        "img = MNIST_x_data_train[80,:]\n",
        "\n",
        "explainer = GradCAMImageExplainer(MNIST_CNN)\n",
        "\n",
        "explainer.fit([MNIST_CNN.conv_block[10]])\n",
        "\n",
        "attr = explainer.explain(torch.tensor(img).reshape(-1,1,28,28).float()/255, 8, model_type='pytorch')\n",
        "gradcam_pt_score = attr[0,:]"
      ]
    },
    {
      "cell_type": "code",
      "execution_count": 30,
      "metadata": {
        "colab": {
          "base_uri": "https://localhost:8080/",
          "height": 195
        },
        "id": "jgPiAjmRiLaK",
        "outputId": "9b67dcc7-3688-4887-d584-f9dd824fd950"
      },
      "outputs": [
        {
          "data": {
            "image/png": "[encoded data removed]",
            "text/plain": [
              "<Figure size 720x360 with 3 Axes>"
            ]
          },
          "metadata": {
            "needs_background": "light"
          },
          "output_type": "display_data"
        }
      ],
      "source": [
        "fig, ax = plt.subplots(1,3,figsize=(10,5))\n",
        "\n",
        "ax[0].imshow(img,cmap='gray')\n",
        "ax[0].axis('off')\n",
        "\n",
        "ax[1].imshow(attr[0,:],cmap='jet')\n",
        "ax[1].axis('off')\n",
        "\n",
        "ax[2].imshow(img,cmap='gray')\n",
        "ax[2].imshow(attr[0,:],cmap='jet',alpha=0.5)\n",
        "ax[2].axis('off');"
      ]
    },
    {
      "cell_type": "code",
      "execution_count": 32,
      "metadata": {
        "id": "rqgoUcHNiLaK"
      },
      "outputs": [],
      "source": [
        "from xailib.explainers.gradcam_explainer import GradCAMImageExplainer\n",
        "\n",
        "img = MNIST_x_data_train[80,:]\n",
        "\n",
        "explainer = GradCAMImageExplainer(MNIST_CNN_tf)\n",
        "\n",
        "explainer.fit('max_pooling2d_1', model_type='tensorflow')\n",
        "\n",
        "attr = explainer.explain(tf.convert_to_tensor(img.reshape(28,28,1)/255,dtype=tf.float32), 8, model_type='tensorflow')\n",
        "gradcam_tf_score = attr"
      ]
    },
    {
      "cell_type": "code",
      "execution_count": 33,
      "metadata": {
        "colab": {
          "base_uri": "https://localhost:8080/",
          "height": 195
        },
        "id": "HOM50sr7iLaK",
        "outputId": "ade8d138-06f6-4098-d3ae-646fe00fb008"
      },
      "outputs": [
        {
          "data": {
            "image/png": "[encoded data removed]",
            "text/plain": [
              "<Figure size 720x360 with 3 Axes>"
            ]
          },
          "metadata": {
            "needs_background": "light"
          },
          "output_type": "display_data"
        }
      ],
      "source": [
        "fig, ax = plt.subplots(1,3,figsize=(10,5))\n",
        "\n",
        "ax[0].imshow(img,cmap='gray')\n",
        "ax[0].axis('off')\n",
        "\n",
        "ax[1].imshow(attr,cmap='jet')\n",
        "ax[1].axis('off')\n",
        "\n",
        "ax[2].imshow(img,cmap='gray')\n",
        "ax[2].imshow(attr,cmap='jet',alpha=0.5)\n",
        "ax[2].axis('off');"
      ]
    },
    {
      "cell_type": "markdown",
      "metadata": {
        "id": "r1ccDliziLaK"
      },
      "source": [
        "# GRADCAM++\n",
        "Like GradCAM but uses second order gradients"
      ]
    },
    {
      "cell_type": "code",
      "execution_count": 34,
      "metadata": {
        "id": "i_-SAQjtiLaK"
      },
      "outputs": [],
      "source": [
        "from xailib.explainers.gradcam_explainer import GradCAMPlusPlusImageExplainer\n",
        "\n",
        "img = MNIST_x_data_train[80,:]\n",
        "\n",
        "explainer = GradCAMPlusPlusImageExplainer(MNIST_CNN)\n",
        "\n",
        "explainer.fit([MNIST_CNN.conv_block[10]])\n",
        "\n",
        "attr = explainer.explain(torch.tensor(img).reshape(-1,1,28,28).float()/255, 5, model_type='pytorch')\n",
        "gradcampp_pt_score = attr[0,:]"
      ]
    },
    {
      "cell_type": "code",
      "execution_count": 35,
      "metadata": {
        "colab": {
          "base_uri": "https://localhost:8080/",
          "height": 195
        },
        "id": "XQ3KpfsyiLaK",
        "outputId": "361dfbe6-31fb-481f-be5b-05dc16bfe9f2"
      },
      "outputs": [
        {
          "data": {
            "image/png": "[encoded data removed]",
            "text/plain": [
              "<Figure size 720x360 with 3 Axes>"
            ]
          },
          "metadata": {
            "needs_background": "light"
          },
          "output_type": "display_data"
        }
      ],
      "source": [
        "fig, ax = plt.subplots(1,3,figsize=(10,5))\n",
        "\n",
        "ax[0].imshow(img,cmap='gray')\n",
        "ax[0].axis('off')\n",
        "\n",
        "ax[1].imshow(attr[0,:],cmap='jet')\n",
        "ax[1].axis('off')\n",
        "\n",
        "ax[2].imshow(img,cmap='gray')\n",
        "ax[2].imshow(attr[0,:],cmap='jet',alpha=0.5)\n",
        "ax[2].axis('off');"
      ]
    },
    {
      "cell_type": "code",
      "execution_count": 36,
      "metadata": {
        "id": "VcLPbNphiLaK"
      },
      "outputs": [],
      "source": [
        "from xailib.explainers.gradcam_explainer import GradCAMPlusPlusImageExplainer\n",
        "\n",
        "img = MNIST_x_data_train[80,:]\n",
        "\n",
        "explainer = GradCAMPlusPlusImageExplainer(MNIST_CNN_tf)\n",
        "\n",
        "explainer.fit('max_pooling2d_1', model_type='tensorflow')\n",
        "\n",
        "attr = explainer.explain(tf.convert_to_tensor(img.reshape(28,28,1)/255,dtype=tf.float32), 8, model_type='tensorflow')\n",
        "gradcampp_tf_score = attr"
      ]
    },
    {
      "cell_type": "code",
      "execution_count": 37,
      "metadata": {
        "colab": {
          "base_uri": "https://localhost:8080/",
          "height": 195
        },
        "id": "H_KQlauNiLaL",
        "outputId": "70b7fab9-e514-4990-9b64-ed5531b4aee1"
      },
      "outputs": [
        {
          "data": {
            "image/png": "[encoded data removed]",
            "text/plain": [
              "<Figure size 720x360 with 3 Axes>"
            ]
          },
          "metadata": {
            "needs_background": "light"
          },
          "output_type": "display_data"
        }
      ],
      "source": [
        "fig, ax = plt.subplots(1,3,figsize=(10,5))\n",
        "\n",
        "ax[0].imshow(img,cmap='gray')\n",
        "ax[0].axis('off')\n",
        "\n",
        "ax[1].imshow(attr,cmap='jet')\n",
        "ax[1].axis('off')\n",
        "\n",
        "ax[2].imshow(img,cmap='gray')\n",
        "ax[2].imshow(attr,cmap='jet',alpha=0.5)\n",
        "ax[2].axis('off');"
      ]
    },
    {
      "cell_type": "code",
      "execution_count": null,
      "metadata": {
        "id": "ge3XCYgkiLaT"
      },
      "outputs": [],
      "source": [
        "methods = [intgrad_pt_score,lime_score,rise_score,gradcam_pt_score,gradcampp_pt_score]\n",
        "F, ax = plt.subplots(1,6,figsize=(20,5))\n",
        "for i in range(6):\n",
        "    ax[i].axis(False)\n",
        "    ax[i].imshow(methods[i],cmap='coolwarm')"
      ]
    },
    {
      "cell_type": "code",
      "execution_count": null,
      "metadata": {},
      "outputs": [],
      "source": [
        "image = MNIST_x_data_train[0:1]\n",
        "plt.imshow(intgrad_pt_score,cmap='coolwarm')\n",
        "plt.axis(False);"
      ]
    },
    {
      "cell_type": "code",
      "execution_count": null,
      "metadata": {},
      "outputs": [],
      "source": [
        "from xailib.metrics.insertiondeletion import ImageInsDel\n",
        "import torch\n",
        "\n",
        "# Load the model\n",
        "MNIST_CNN\n",
        "\n",
        "def predict(image):\n",
        "    return MNIST_CNN(torch.tensor(image.reshape(1,1,28,28)/255).float()).detach().numpy()\n",
        "\n",
        "step = 28\n",
        "mode = 'del'\n",
        "metric = ImageInsDel(predict, mode, step, torch.zeros_like)"
      ]
    },
    {
      "cell_type": "code",
      "execution_count": null,
      "metadata": {},
      "outputs": [],
      "source": [
        "from sklearn.metrics import auc\n",
        "\n",
        "y = metric(image, 28, intgrad_pt_score, rgb=False)\n",
        "x = np.arange(len(y))*step/784\n",
        "x[-1] = 1.0\n",
        "print('Score:', auc(x, y))\n",
        "\n",
        "plt.plot(x, y, label=np.round(auc(x, y),4))\n",
        "plt.fill_between(x, y, alpha=0.4)\n",
        "plt.xlabel('Percentage of pixel removed')\n",
        "plt.ylabel('Accuracy of the model')\n",
        "plt.legend();"
      ]
    },
    {
      "cell_type": "code",
      "execution_count": null,
      "metadata": {},
      "outputs": [],
      "source": [
        "from scipy.ndimage.filters import gaussian_filter\n",
        "CH = 1\n",
        "def gkern(klen, nsig):\n",
        "    \"\"\"Returns a Gaussian kernel array.\n",
        "    Convolution with it results in image blurring.\"\"\"\n",
        "    # create nxn zeros\n",
        "    inp = np.zeros((klen, klen))\n",
        "    # set element at the middle to one, a dirac delta\n",
        "    inp[klen//2, klen//2] = 1\n",
        "    # gaussian-smooth the dirac, resulting in a gaussian filter mask\n",
        "    k = gaussian_filter(inp, nsig)\n",
        "    kern = np.zeros((CH, CH, klen, klen))\n",
        "    for i in range(CH):\n",
        "        kern[i, i] = k\n",
        "    return torch.from_numpy(kern.astype('float32'))\n",
        "\n",
        "# Function that blurs input image\n",
        "def blur(image, klen=11, ksig=5):\n",
        "\n",
        "    kern = gkern(klen, ksig)\n",
        "    image = torch.tensor(np.expand_dims(image, 0)).float()\n",
        "    return nn.functional.conv2d(image, kern, padding=klen//2)[0,:]\n",
        "\n",
        "F,ax = plt.subplots(1,2)\n",
        "ax[0].imshow(image[0,:], cmap='gray')\n",
        "ax[0].axis(False)\n",
        "ax[1].imshow(blur(image)[0,:],cmap='gray')\n",
        "ax[1].axis(False);"
      ]
    },
    {
      "cell_type": "code",
      "execution_count": null,
      "metadata": {},
      "outputs": [],
      "source": [
        "from xailib.metrics.insertiondeletion import ImageInsDel\n",
        "\n",
        "def predict(image):\n",
        "    return MNIST_CNN(torch.tensor(image.reshape(1,1,28,28)/255).float()).detach().numpy()\n",
        "\n",
        "step = 10\n",
        "mode = 'ins'\n",
        "metric = ImageInsDel(predict, mode, step, blur)"
      ]
    },
    {
      "cell_type": "code",
      "execution_count": null,
      "metadata": {},
      "outputs": [],
      "source": [
        "from sklearn.metrics import auc\n",
        "\n",
        "y = metric(image, 28, intgrad_pt_score, rgb=False)\n",
        "x = np.arange(len(y))*step/784\n",
        "x[-1] = 1.0\n",
        "print('Score:', auc(x, y))\n",
        "\n",
        "plt.plot(x, y, label=np.round(auc(x, y),4))\n",
        "plt.fill_between(x, y, alpha=0.4)\n",
        "plt.xlabel('Percentage of pixel removed')\n",
        "plt.ylabel('Accuracy of the model')\n",
        "plt.legend();"
      ]
    },
    {
      "cell_type": "code",
      "execution_count": null,
      "metadata": {},
      "outputs": [],
      "source": [
        "y = metric(image, 28, intgrad_pt_score, rgb=False, verbose=2)"
      ]
    }
  ],
  "metadata": {
    "colab": {
      "name": "MNIST.ipynb",
      "provenance": []
    },
    "kernelspec": {
      "display_name": "Python 3 (ipykernel)",
      "language": "python",
      "name": "python3"
    },
    "language_info": {
      "codemirror_mode": {
        "name": "ipython",
        "version": 3
      },
      "file_extension": ".py",
      "mimetype": "text/x-python",
      "name": "python",
      "nbconvert_exporter": "python",
      "pygments_lexer": "ipython3",
      "version": "3.8.8"
    },
    "widgets": {
      "application/vnd.jupyter.widget-state+json": {
        "000739d30a4e4fd2bfc7659f0159cda5": {
          "model_module": "@jupyter-widgets/controls",
          "model_module_version": "1.5.0",
          "model_name": "HBoxModel",
          "state": {
            "_dom_classes": [],
            "_model_module": "@jupyter-widgets/controls",
            "_model_module_version": "1.5.0",
            "_model_name": "HBoxModel",
            "_view_count": null,
            "_view_module": "@jupyter-widgets/controls",
            "_view_module_version": "1.5.0",
            "_view_name": "HBoxView",
            "box_style": "",
            "children": [
              "IPY_MODEL_e783171df4e740188ab5793b44babd8a",
              "IPY_MODEL_8f4c208b434e451baa54ef26a62d461c",
              "IPY_MODEL_8d9ddbc81a224c39ab2efb31900b2c57"
            ],
            "layout": "IPY_MODEL_93d860597c5d4fa49fb9953130c121d4"
          }
        },
        "0a92673f39ee47a7b47d374a9a7edd27": {
          "model_module": "@jupyter-widgets/controls",
          "model_module_version": "1.5.0",
          "model_name": "FloatProgressModel",
          "state": {
            "_dom_classes": [],
            "_model_module": "@jupyter-widgets/controls",
            "_model_module_version": "1.5.0",
            "_model_name": "FloatProgressModel",
            "_view_count": null,
            "_view_module": "@jupyter-widgets/controls",
            "_view_module_version": "1.5.0",
            "_view_name": "ProgressView",
            "bar_style": "success",
            "description": "",
            "description_tooltip": null,
            "layout": "IPY_MODEL_aacdff13507e4289a8174294808f73c5",
            "max": 500,
            "min": 0,
            "orientation": "horizontal",
            "style": "IPY_MODEL_80141e76624a4c0780213cd099676974",
            "value": 500
          }
        },
        "10785434e4de4d58bfe1671f58985ff4": {
          "model_module": "@jupyter-widgets/base",
          "model_module_version": "1.2.0",
          "model_name": "LayoutModel",
          "state": {
            "_model_module": "@jupyter-widgets/base",
            "_model_module_version": "1.2.0",
            "_model_name": "LayoutModel",
            "_view_count": null,
            "_view_module": "@jupyter-widgets/base",
            "_view_module_version": "1.2.0",
            "_view_name": "LayoutView",
            "align_content": null,
            "align_items": null,
            "align_self": null,
            "border": null,
            "bottom": null,
            "display": null,
            "flex": null,
            "flex_flow": null,
            "grid_area": null,
            "grid_auto_columns": null,
            "grid_auto_flow": null,
            "grid_auto_rows": null,
            "grid_column": null,
            "grid_gap": null,
            "grid_row": null,
            "grid_template_areas": null,
            "grid_template_columns": null,
            "grid_template_rows": null,
            "height": null,
            "justify_content": null,
            "justify_items": null,
            "left": null,
            "margin": null,
            "max_height": null,
            "max_width": null,
            "min_height": null,
            "min_width": null,
            "object_fit": null,
            "object_position": null,
            "order": null,
            "overflow": null,
            "overflow_x": null,
            "overflow_y": null,
            "padding": null,
            "right": null,
            "top": null,
            "visibility": null,
            "width": null
          }
        },
        "595d45cb8d524421a85d653610e12a84": {
          "model_module": "@jupyter-widgets/base",
          "model_module_version": "1.2.0",
          "model_name": "LayoutModel",
          "state": {
            "_model_module": "@jupyter-widgets/base",
            "_model_module_version": "1.2.0",
            "_model_name": "LayoutModel",
            "_view_count": null,
            "_view_module": "@jupyter-widgets/base",
            "_view_module_version": "1.2.0",
            "_view_name": "LayoutView",
            "align_content": null,
            "align_items": null,
            "align_self": null,
            "border": null,
            "bottom": null,
            "display": null,
            "flex": null,
            "flex_flow": null,
            "grid_area": null,
            "grid_auto_columns": null,
            "grid_auto_flow": null,
            "grid_auto_rows": null,
            "grid_column": null,
            "grid_gap": null,
            "grid_row": null,
            "grid_template_areas": null,
            "grid_template_columns": null,
            "grid_template_rows": null,
            "height": null,
            "justify_content": null,
            "justify_items": null,
            "left": null,
            "margin": null,
            "max_height": null,
            "max_width": null,
            "min_height": null,
            "min_width": null,
            "object_fit": null,
            "object_position": null,
            "order": null,
            "overflow": null,
            "overflow_x": null,
            "overflow_y": null,
            "padding": null,
            "right": null,
            "top": null,
            "visibility": null,
            "width": null
          }
        },
        "676476610fa44722b5e79a88bbd02040": {
          "model_module": "@jupyter-widgets/controls",
          "model_module_version": "1.5.0",
          "model_name": "DescriptionStyleModel",
          "state": {
            "_model_module": "@jupyter-widgets/controls",
            "_model_module_version": "1.5.0",
            "_model_name": "DescriptionStyleModel",
            "_view_count": null,
            "_view_module": "@jupyter-widgets/base",
            "_view_module_version": "1.2.0",
            "_view_name": "StyleView",
            "description_width": ""
          }
        },
        "68bea8011911412c8864b3899b68ab5e": {
          "model_module": "@jupyter-widgets/base",
          "model_module_version": "1.2.0",
          "model_name": "LayoutModel",
          "state": {
            "_model_module": "@jupyter-widgets/base",
            "_model_module_version": "1.2.0",
            "_model_name": "LayoutModel",
            "_view_count": null,
            "_view_module": "@jupyter-widgets/base",
            "_view_module_version": "1.2.0",
            "_view_name": "LayoutView",
            "align_content": null,
            "align_items": null,
            "align_self": null,
            "border": null,
            "bottom": null,
            "display": null,
            "flex": null,
            "flex_flow": null,
            "grid_area": null,
            "grid_auto_columns": null,
            "grid_auto_flow": null,
            "grid_auto_rows": null,
            "grid_column": null,
            "grid_gap": null,
            "grid_row": null,
            "grid_template_areas": null,
            "grid_template_columns": null,
            "grid_template_rows": null,
            "height": null,
            "justify_content": null,
            "justify_items": null,
            "left": null,
            "margin": null,
            "max_height": null,
            "max_width": null,
            "min_height": null,
            "min_width": null,
            "object_fit": null,
            "object_position": null,
            "order": null,
            "overflow": null,
            "overflow_x": null,
            "overflow_y": null,
            "padding": null,
            "right": null,
            "top": null,
            "visibility": null,
            "width": null
          }
        },
        "7b3e14c7616a41c88a58f376ca5f59ea": {
          "model_module": "@jupyter-widgets/base",
          "model_module_version": "1.2.0",
          "model_name": "LayoutModel",
          "state": {
            "_model_module": "@jupyter-widgets/base",
            "_model_module_version": "1.2.0",
            "_model_name": "LayoutModel",
            "_view_count": null,
            "_view_module": "@jupyter-widgets/base",
            "_view_module_version": "1.2.0",
            "_view_name": "LayoutView",
            "align_content": null,
            "align_items": null,
            "align_self": null,
            "border": null,
            "bottom": null,
            "display": null,
            "flex": null,
            "flex_flow": null,
            "grid_area": null,
            "grid_auto_columns": null,
            "grid_auto_flow": null,
            "grid_auto_rows": null,
            "grid_column": null,
            "grid_gap": null,
            "grid_row": null,
            "grid_template_areas": null,
            "grid_template_columns": null,
            "grid_template_rows": null,
            "height": null,
            "justify_content": null,
            "justify_items": null,
            "left": null,
            "margin": null,
            "max_height": null,
            "max_width": null,
            "min_height": null,
            "min_width": null,
            "object_fit": null,
            "object_position": null,
            "order": null,
            "overflow": null,
            "overflow_x": null,
            "overflow_y": null,
            "padding": null,
            "right": null,
            "top": null,
            "visibility": null,
            "width": null
          }
        },
        "80141e76624a4c0780213cd099676974": {
          "model_module": "@jupyter-widgets/controls",
          "model_module_version": "1.5.0",
          "model_name": "ProgressStyleModel",
          "state": {
            "_model_module": "@jupyter-widgets/controls",
            "_model_module_version": "1.5.0",
            "_model_name": "ProgressStyleModel",
            "_view_count": null,
            "_view_module": "@jupyter-widgets/base",
            "_view_module_version": "1.2.0",
            "_view_name": "StyleView",
            "bar_color": null,
            "description_width": ""
          }
        },
        "8aa02a4986ac44dab54aa418cd869545": {
          "model_module": "@jupyter-widgets/controls",
          "model_module_version": "1.5.0",
          "model_name": "HTMLModel",
          "state": {
            "_dom_classes": [],
            "_model_module": "@jupyter-widgets/controls",
            "_model_module_version": "1.5.0",
            "_model_name": "HTMLModel",
            "_view_count": null,
            "_view_module": "@jupyter-widgets/controls",
            "_view_module_version": "1.5.0",
            "_view_name": "HTMLView",
            "description": "",
            "description_tooltip": null,
            "layout": "IPY_MODEL_68bea8011911412c8864b3899b68ab5e",
            "placeholder": "​",
            "style": "IPY_MODEL_cdc040d12f01492cb8b6ee73bea5bc94",
            "value": " 500/500 [00:01&lt;00:00, 496.58it/s]"
          }
        },
        "8d9ddbc81a224c39ab2efb31900b2c57": {
          "model_module": "@jupyter-widgets/controls",
          "model_module_version": "1.5.0",
          "model_name": "HTMLModel",
          "state": {
            "_dom_classes": [],
            "_model_module": "@jupyter-widgets/controls",
            "_model_module_version": "1.5.0",
            "_model_name": "HTMLModel",
            "_view_count": null,
            "_view_module": "@jupyter-widgets/controls",
            "_view_module_version": "1.5.0",
            "_view_name": "HTMLView",
            "description": "",
            "description_tooltip": null,
            "layout": "IPY_MODEL_7b3e14c7616a41c88a58f376ca5f59ea",
            "placeholder": "​",
            "style": "IPY_MODEL_676476610fa44722b5e79a88bbd02040",
            "value": " 500/500 [00:01&lt;00:00, 440.90it/s]"
          }
        },
        "8f4c208b434e451baa54ef26a62d461c": {
          "model_module": "@jupyter-widgets/controls",
          "model_module_version": "1.5.0",
          "model_name": "FloatProgressModel",
          "state": {
            "_dom_classes": [],
            "_model_module": "@jupyter-widgets/controls",
            "_model_module_version": "1.5.0",
            "_model_name": "FloatProgressModel",
            "_view_count": null,
            "_view_module": "@jupyter-widgets/controls",
            "_view_module_version": "1.5.0",
            "_view_name": "ProgressView",
            "bar_style": "success",
            "description": "",
            "description_tooltip": null,
            "layout": "IPY_MODEL_a6b77f297ad54e36be2b72e8448bac0c",
            "max": 500,
            "min": 0,
            "orientation": "horizontal",
            "style": "IPY_MODEL_c099c09ded364a44bd4fc9b86be85db8",
            "value": 500
          }
        },
        "93d860597c5d4fa49fb9953130c121d4": {
          "model_module": "@jupyter-widgets/base",
          "model_module_version": "1.2.0",
          "model_name": "LayoutModel",
          "state": {
            "_model_module": "@jupyter-widgets/base",
            "_model_module_version": "1.2.0",
            "_model_name": "LayoutModel",
            "_view_count": null,
            "_view_module": "@jupyter-widgets/base",
            "_view_module_version": "1.2.0",
            "_view_name": "LayoutView",
            "align_content": null,
            "align_items": null,
            "align_self": null,
            "border": null,
            "bottom": null,
            "display": null,
            "flex": null,
            "flex_flow": null,
            "grid_area": null,
            "grid_auto_columns": null,
            "grid_auto_flow": null,
            "grid_auto_rows": null,
            "grid_column": null,
            "grid_gap": null,
            "grid_row": null,
            "grid_template_areas": null,
            "grid_template_columns": null,
            "grid_template_rows": null,
            "height": null,
            "justify_content": null,
            "justify_items": null,
            "left": null,
            "margin": null,
            "max_height": null,
            "max_width": null,
            "min_height": null,
            "min_width": null,
            "object_fit": null,
            "object_position": null,
            "order": null,
            "overflow": null,
            "overflow_x": null,
            "overflow_y": null,
            "padding": null,
            "right": null,
            "top": null,
            "visibility": null,
            "width": null
          }
        },
        "a6b77f297ad54e36be2b72e8448bac0c": {
          "model_module": "@jupyter-widgets/base",
          "model_module_version": "1.2.0",
          "model_name": "LayoutModel",
          "state": {
            "_model_module": "@jupyter-widgets/base",
            "_model_module_version": "1.2.0",
            "_model_name": "LayoutModel",
            "_view_count": null,
            "_view_module": "@jupyter-widgets/base",
            "_view_module_version": "1.2.0",
            "_view_name": "LayoutView",
            "align_content": null,
            "align_items": null,
            "align_self": null,
            "border": null,
            "bottom": null,
            "display": null,
            "flex": null,
            "flex_flow": null,
            "grid_area": null,
            "grid_auto_columns": null,
            "grid_auto_flow": null,
            "grid_auto_rows": null,
            "grid_column": null,
            "grid_gap": null,
            "grid_row": null,
            "grid_template_areas": null,
            "grid_template_columns": null,
            "grid_template_rows": null,
            "height": null,
            "justify_content": null,
            "justify_items": null,
            "left": null,
            "margin": null,
            "max_height": null,
            "max_width": null,
            "min_height": null,
            "min_width": null,
            "object_fit": null,
            "object_position": null,
            "order": null,
            "overflow": null,
            "overflow_x": null,
            "overflow_y": null,
            "padding": null,
            "right": null,
            "top": null,
            "visibility": null,
            "width": null
          }
        },
        "aacdff13507e4289a8174294808f73c5": {
          "model_module": "@jupyter-widgets/base",
          "model_module_version": "1.2.0",
          "model_name": "LayoutModel",
          "state": {
            "_model_module": "@jupyter-widgets/base",
            "_model_module_version": "1.2.0",
            "_model_name": "LayoutModel",
            "_view_count": null,
            "_view_module": "@jupyter-widgets/base",
            "_view_module_version": "1.2.0",
            "_view_name": "LayoutView",
            "align_content": null,
            "align_items": null,
            "align_self": null,
            "border": null,
            "bottom": null,
            "display": null,
            "flex": null,
            "flex_flow": null,
            "grid_area": null,
            "grid_auto_columns": null,
            "grid_auto_flow": null,
            "grid_auto_rows": null,
            "grid_column": null,
            "grid_gap": null,
            "grid_row": null,
            "grid_template_areas": null,
            "grid_template_columns": null,
            "grid_template_rows": null,
            "height": null,
            "justify_content": null,
            "justify_items": null,
            "left": null,
            "margin": null,
            "max_height": null,
            "max_width": null,
            "min_height": null,
            "min_width": null,
            "object_fit": null,
            "object_position": null,
            "order": null,
            "overflow": null,
            "overflow_x": null,
            "overflow_y": null,
            "padding": null,
            "right": null,
            "top": null,
            "visibility": null,
            "width": null
          }
        },
        "b2926604cd7241f389098d5fc345daea": {
          "model_module": "@jupyter-widgets/controls",
          "model_module_version": "1.5.0",
          "model_name": "HBoxModel",
          "state": {
            "_dom_classes": [],
            "_model_module": "@jupyter-widgets/controls",
            "_model_module_version": "1.5.0",
            "_model_name": "HBoxModel",
            "_view_count": null,
            "_view_module": "@jupyter-widgets/controls",
            "_view_module_version": "1.5.0",
            "_view_name": "HBoxView",
            "box_style": "",
            "children": [
              "IPY_MODEL_b9e04b46e3f24e8ca1f343671d559a57",
              "IPY_MODEL_0a92673f39ee47a7b47d374a9a7edd27",
              "IPY_MODEL_8aa02a4986ac44dab54aa418cd869545"
            ],
            "layout": "IPY_MODEL_595d45cb8d524421a85d653610e12a84"
          }
        },
        "b50b2033077e4c3699e4b9c90235463e": {
          "model_module": "@jupyter-widgets/controls",
          "model_module_version": "1.5.0",
          "model_name": "DescriptionStyleModel",
          "state": {
            "_model_module": "@jupyter-widgets/controls",
            "_model_module_version": "1.5.0",
            "_model_name": "DescriptionStyleModel",
            "_view_count": null,
            "_view_module": "@jupyter-widgets/base",
            "_view_module_version": "1.2.0",
            "_view_name": "StyleView",
            "description_width": ""
          }
        },
        "b9e04b46e3f24e8ca1f343671d559a57": {
          "model_module": "@jupyter-widgets/controls",
          "model_module_version": "1.5.0",
          "model_name": "HTMLModel",
          "state": {
            "_dom_classes": [],
            "_model_module": "@jupyter-widgets/controls",
            "_model_module_version": "1.5.0",
            "_model_name": "HTMLModel",
            "_view_count": null,
            "_view_module": "@jupyter-widgets/controls",
            "_view_module_version": "1.5.0",
            "_view_name": "HTMLView",
            "description": "",
            "description_tooltip": null,
            "layout": "IPY_MODEL_feb81cfa232b4efbba92a415f92085f3",
            "placeholder": "​",
            "style": "IPY_MODEL_c0e88205411346379eaceb2fae786cad",
            "value": "100%"
          }
        },
        "c099c09ded364a44bd4fc9b86be85db8": {
          "model_module": "@jupyter-widgets/controls",
          "model_module_version": "1.5.0",
          "model_name": "ProgressStyleModel",
          "state": {
            "_model_module": "@jupyter-widgets/controls",
            "_model_module_version": "1.5.0",
            "_model_name": "ProgressStyleModel",
            "_view_count": null,
            "_view_module": "@jupyter-widgets/base",
            "_view_module_version": "1.2.0",
            "_view_name": "StyleView",
            "bar_color": null,
            "description_width": ""
          }
        },
        "c0e88205411346379eaceb2fae786cad": {
          "model_module": "@jupyter-widgets/controls",
          "model_module_version": "1.5.0",
          "model_name": "DescriptionStyleModel",
          "state": {
            "_model_module": "@jupyter-widgets/controls",
            "_model_module_version": "1.5.0",
            "_model_name": "DescriptionStyleModel",
            "_view_count": null,
            "_view_module": "@jupyter-widgets/base",
            "_view_module_version": "1.2.0",
            "_view_name": "StyleView",
            "description_width": ""
          }
        },
        "cdc040d12f01492cb8b6ee73bea5bc94": {
          "model_module": "@jupyter-widgets/controls",
          "model_module_version": "1.5.0",
          "model_name": "DescriptionStyleModel",
          "state": {
            "_model_module": "@jupyter-widgets/controls",
            "_model_module_version": "1.5.0",
            "_model_name": "DescriptionStyleModel",
            "_view_count": null,
            "_view_module": "@jupyter-widgets/base",
            "_view_module_version": "1.2.0",
            "_view_name": "StyleView",
            "description_width": ""
          }
        },
        "e783171df4e740188ab5793b44babd8a": {
          "model_module": "@jupyter-widgets/controls",
          "model_module_version": "1.5.0",
          "model_name": "HTMLModel",
          "state": {
            "_dom_classes": [],
            "_model_module": "@jupyter-widgets/controls",
            "_model_module_version": "1.5.0",
            "_model_name": "HTMLModel",
            "_view_count": null,
            "_view_module": "@jupyter-widgets/controls",
            "_view_module_version": "1.5.0",
            "_view_name": "HTMLView",
            "description": "",
            "description_tooltip": null,
            "layout": "IPY_MODEL_10785434e4de4d58bfe1671f58985ff4",
            "placeholder": "​",
            "style": "IPY_MODEL_b50b2033077e4c3699e4b9c90235463e",
            "value": "100%"
          }
        },
        "feb81cfa232b4efbba92a415f92085f3": {
          "model_module": "@jupyter-widgets/base",
          "model_module_version": "1.2.0",
          "model_name": "LayoutModel",
          "state": {
            "_model_module": "@jupyter-widgets/base",
            "_model_module_version": "1.2.0",
            "_model_name": "LayoutModel",
            "_view_count": null,
            "_view_module": "@jupyter-widgets/base",
            "_view_module_version": "1.2.0",
            "_view_name": "LayoutView",
            "align_content": null,
            "align_items": null,
            "align_self": null,
            "border": null,
            "bottom": null,
            "display": null,
            "flex": null,
            "flex_flow": null,
            "grid_area": null,
            "grid_auto_columns": null,
            "grid_auto_flow": null,
            "grid_auto_rows": null,
            "grid_column": null,
            "grid_gap": null,
            "grid_row": null,
            "grid_template_areas": null,
            "grid_template_columns": null,
            "grid_template_rows": null,
            "height": null,
            "justify_content": null,
            "justify_items": null,
            "left": null,
            "margin": null,
            "max_height": null,
            "max_width": null,
            "min_height": null,
            "min_width": null,
            "object_fit": null,
            "object_position": null,
            "order": null,
            "overflow": null,
            "overflow_x": null,
            "overflow_y": null,
            "padding": null,
            "right": null,
            "top": null,
            "visibility": null,
            "width": null
          }
        }
      }
    }
  },
  "nbformat": 4,
  "nbformat_minor": 0
}
